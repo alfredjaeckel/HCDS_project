{
 "cells": [
  {
   "cell_type": "markdown",
   "source": [
    "Download dependencies:"
   ],
   "metadata": {
    "collapsed": false
   }
  },
  {
   "cell_type": "code",
   "execution_count": 1,
   "outputs": [
    {
     "name": "stdout",
     "output_type": "stream",
     "text": [
      "Requirement already satisfied: zipp in ./venv/lib/python3.9/site-packages (3.15.0)\r\n",
      "\r\n",
      "\u001B[1m[\u001B[0m\u001B[34;49mnotice\u001B[0m\u001B[1;39;49m]\u001B[0m\u001B[39;49m A new release of pip available: \u001B[0m\u001B[31;49m22.3.1\u001B[0m\u001B[39;49m -> \u001B[0m\u001B[32;49m23.1.2\u001B[0m\r\n",
      "\u001B[1m[\u001B[0m\u001B[34;49mnotice\u001B[0m\u001B[1;39;49m]\u001B[0m\u001B[39;49m To update, run: \u001B[0m\u001B[32;49mpip install --upgrade pip\u001B[0m\r\n",
      "Collecting requests\r\n",
      "  Using cached requests-2.29.0-py3-none-any.whl (62 kB)\r\n",
      "Collecting charset-normalizer<4,>=2\r\n",
      "  Using cached charset_normalizer-3.1.0-cp39-cp39-macosx_11_0_arm64.whl (122 kB)\r\n",
      "Collecting urllib3<1.27,>=1.21.1\r\n",
      "  Using cached urllib3-1.26.15-py2.py3-none-any.whl (140 kB)\r\n",
      "Collecting certifi>=2017.4.17\r\n",
      "  Using cached certifi-2022.12.7-py3-none-any.whl (155 kB)\r\n",
      "Requirement already satisfied: idna<4,>=2.5 in ./venv/lib/python3.9/site-packages (from requests) (3.4)\r\n",
      "Installing collected packages: urllib3, charset-normalizer, certifi, requests\r\n",
      "Successfully installed certifi-2022.12.7 charset-normalizer-3.1.0 requests-2.29.0 urllib3-1.26.15\r\n",
      "\r\n",
      "\u001B[1m[\u001B[0m\u001B[34;49mnotice\u001B[0m\u001B[1;39;49m]\u001B[0m\u001B[39;49m A new release of pip available: \u001B[0m\u001B[31;49m22.3.1\u001B[0m\u001B[39;49m -> \u001B[0m\u001B[32;49m23.1.2\u001B[0m\r\n",
      "\u001B[1m[\u001B[0m\u001B[34;49mnotice\u001B[0m\u001B[1;39;49m]\u001B[0m\u001B[39;49m To update, run: \u001B[0m\u001B[32;49mpip install --upgrade pip\u001B[0m\r\n",
      "Collecting pandas\r\n",
      "  Using cached pandas-2.0.1-cp39-cp39-macosx_11_0_arm64.whl (10.9 MB)\r\n",
      "Collecting numpy>=1.20.3\r\n",
      "  Using cached numpy-1.24.3-cp39-cp39-macosx_11_0_arm64.whl (13.9 MB)\r\n",
      "Requirement already satisfied: python-dateutil>=2.8.2 in ./venv/lib/python3.9/site-packages (from pandas) (2.8.2)\r\n",
      "Collecting pytz>=2020.1\r\n",
      "  Using cached pytz-2023.3-py2.py3-none-any.whl (502 kB)\r\n",
      "Collecting tzdata>=2022.1\r\n",
      "  Using cached tzdata-2023.3-py2.py3-none-any.whl (341 kB)\r\n",
      "Requirement already satisfied: six>=1.5 in ./venv/lib/python3.9/site-packages (from python-dateutil>=2.8.2->pandas) (1.16.0)\r\n",
      "Installing collected packages: pytz, tzdata, numpy, pandas\r\n",
      "Successfully installed numpy-1.24.3 pandas-2.0.1 pytz-2023.3 tzdata-2023.3\r\n",
      "\r\n",
      "\u001B[1m[\u001B[0m\u001B[34;49mnotice\u001B[0m\u001B[1;39;49m]\u001B[0m\u001B[39;49m A new release of pip available: \u001B[0m\u001B[31;49m22.3.1\u001B[0m\u001B[39;49m -> \u001B[0m\u001B[32;49m23.1.2\u001B[0m\r\n",
      "\u001B[1m[\u001B[0m\u001B[34;49mnotice\u001B[0m\u001B[1;39;49m]\u001B[0m\u001B[39;49m To update, run: \u001B[0m\u001B[32;49mpip install --upgrade pip\u001B[0m\r\n"
     ]
    }
   ],
   "source": [
    "!pip install zipp\n",
    "!pip install requests\n",
    "!pip install pandas"
   ],
   "metadata": {
    "collapsed": false,
    "ExecuteTime": {
     "end_time": "2023-05-04T13:16:47.414386Z",
     "start_time": "2023-05-04T13:16:40.242090Z"
    }
   }
  },
  {
   "cell_type": "markdown",
   "source": [
    "Import Dependencies:"
   ],
   "metadata": {
    "collapsed": false
   }
  },
  {
   "cell_type": "code",
   "execution_count": 2,
   "outputs": [],
   "source": [
    "from zipfile import ZipFile\n",
    "import requests\n",
    "import pandas as pd"
   ],
   "metadata": {
    "collapsed": false,
    "ExecuteTime": {
     "end_time": "2023-05-04T13:16:58.777360Z",
     "start_time": "2023-05-04T13:16:54.400053Z"
    }
   }
  },
  {
   "cell_type": "markdown",
   "source": [
    "Download the file:"
   ],
   "metadata": {
    "collapsed": false
   }
  },
  {
   "cell_type": "code",
   "execution_count": 3,
   "outputs": [],
   "source": [
    "url = 'https://download-data.deutschebahn.com/static/datasets/wifi/20171212_wifionice.zip'\n",
    "response = requests.get(url)\n",
    "\n",
    "with open('20171212_wifionice.zip', 'wb') as f:\n",
    "    f.write(response.content)"
   ],
   "metadata": {
    "collapsed": false,
    "ExecuteTime": {
     "end_time": "2023-05-04T13:22:33.528844Z",
     "start_time": "2023-05-04T13:17:13.293876Z"
    }
   }
  },
  {
   "cell_type": "markdown",
   "source": [
    "Extract the csv file and read dataset:"
   ],
   "metadata": {
    "collapsed": false
   }
  },
  {
   "cell_type": "code",
   "execution_count": 4,
   "outputs": [],
   "source": [
    "with ZipFile('20171212_wifionice.zip', 'r') as zip_file:\n",
    "    zip_file.extract('surveyor_hackathon_data_20171212.csv')\n",
    "\n",
    "data = pd.read_csv('surveyor_hackathon_data_20171212.csv', sep=';', low_memory=False)"
   ],
   "metadata": {
    "collapsed": false,
    "ExecuteTime": {
     "end_time": "2023-05-04T13:24:41.382155Z",
     "start_time": "2023-05-04T13:22:40.050418Z"
    }
   }
  },
  {
   "cell_type": "code",
   "execution_count": 5,
   "outputs": [
    {
     "data": {
      "text/plain": "                        sid              created  gps_breite  gps_laenge   \n0                  40117905  2017-03-08 14:47:26   50.977077   11.070605  \\\n1                  40117905  2017-03-08 14:52:01   50.977077   11.070607   \n2                  40117905  2017-03-08 14:52:46   50.977078   11.070612   \n3                  40117905  2017-03-08 14:53:01   50.977080   11.070612   \n4                  40117905  2017-03-08 14:53:56   50.977080   11.070607   \n...                     ...                  ...         ...         ...   \n23562071         2502064046  2017-05-01 13:48:45   49.270323   11.210692   \n23562072         2502064046  2017-05-01 13:49:35   49.295433   11.207790   \n23562073         2502064046  2017-05-01 13:50:45   49.331827   11.204543   \n23562074         2502064046  2017-05-01 13:50:50   49.334565   11.204135   \n23562075  (23562075 Zeilen)                  NaN         NaN         NaN   \n\n          gps_hoehe  gps_v   sat  gps_richtung  pax_auth  pax_total  tprx   \n0             208.3    NaN   9.0           NaN       3.0        5.0   8.0  \\\n1             208.3    NaN   9.0           NaN       3.0        5.0   8.0   \n2             208.0    NaN   9.0           NaN       3.0        5.0   8.0   \n3             207.9    NaN   9.0           NaN       3.0        5.0   8.0   \n4             208.0    NaN   9.0           NaN       3.0        5.0   8.0   \n...             ...    ...   ...           ...       ...        ...   ...   \n23562071      398.3   55.9  12.0           NaN       NaN       82.0   NaN   \n23562072      383.1   56.0  12.0           NaN       NaN       76.0   NaN   \n23562073      373.9   61.6  12.0           NaN       NaN       73.0   NaN   \n23562074      376.6   60.7  12.0           NaN       NaN       73.0   NaN   \n23562075        NaN    NaN   NaN           NaN       NaN        NaN   NaN   \n\n          tptx  link_id link_gw_conn  link_ping  \n0          8.0    101.0            t       55.0  \n1          8.0    101.0            t       63.0  \n2          8.0    101.0            t       41.0  \n3          8.0    101.0            t       62.0  \n4          8.0    101.0            t       60.0  \n...        ...      ...          ...        ...  \n23562071   NaN    106.0            t       54.0  \n23562072   NaN    106.0            t       52.0  \n23562073   NaN    106.0            t       77.0  \n23562074   NaN    106.0            t       60.0  \n23562075   NaN      NaN          NaN        NaN  \n\n[23562076 rows x 15 columns]",
      "text/html": "<div>\n<style scoped>\n    .dataframe tbody tr th:only-of-type {\n        vertical-align: middle;\n    }\n\n    .dataframe tbody tr th {\n        vertical-align: top;\n    }\n\n    .dataframe thead th {\n        text-align: right;\n    }\n</style>\n<table border=\"1\" class=\"dataframe\">\n  <thead>\n    <tr style=\"text-align: right;\">\n      <th></th>\n      <th>sid</th>\n      <th>created</th>\n      <th>gps_breite</th>\n      <th>gps_laenge</th>\n      <th>gps_hoehe</th>\n      <th>gps_v</th>\n      <th>sat</th>\n      <th>gps_richtung</th>\n      <th>pax_auth</th>\n      <th>pax_total</th>\n      <th>tprx</th>\n      <th>tptx</th>\n      <th>link_id</th>\n      <th>link_gw_conn</th>\n      <th>link_ping</th>\n    </tr>\n  </thead>\n  <tbody>\n    <tr>\n      <th>0</th>\n      <td>40117905</td>\n      <td>2017-03-08 14:47:26</td>\n      <td>50.977077</td>\n      <td>11.070605</td>\n      <td>208.3</td>\n      <td>NaN</td>\n      <td>9.0</td>\n      <td>NaN</td>\n      <td>3.0</td>\n      <td>5.0</td>\n      <td>8.0</td>\n      <td>8.0</td>\n      <td>101.0</td>\n      <td>t</td>\n      <td>55.0</td>\n    </tr>\n    <tr>\n      <th>1</th>\n      <td>40117905</td>\n      <td>2017-03-08 14:52:01</td>\n      <td>50.977077</td>\n      <td>11.070607</td>\n      <td>208.3</td>\n      <td>NaN</td>\n      <td>9.0</td>\n      <td>NaN</td>\n      <td>3.0</td>\n      <td>5.0</td>\n      <td>8.0</td>\n      <td>8.0</td>\n      <td>101.0</td>\n      <td>t</td>\n      <td>63.0</td>\n    </tr>\n    <tr>\n      <th>2</th>\n      <td>40117905</td>\n      <td>2017-03-08 14:52:46</td>\n      <td>50.977078</td>\n      <td>11.070612</td>\n      <td>208.0</td>\n      <td>NaN</td>\n      <td>9.0</td>\n      <td>NaN</td>\n      <td>3.0</td>\n      <td>5.0</td>\n      <td>8.0</td>\n      <td>8.0</td>\n      <td>101.0</td>\n      <td>t</td>\n      <td>41.0</td>\n    </tr>\n    <tr>\n      <th>3</th>\n      <td>40117905</td>\n      <td>2017-03-08 14:53:01</td>\n      <td>50.977080</td>\n      <td>11.070612</td>\n      <td>207.9</td>\n      <td>NaN</td>\n      <td>9.0</td>\n      <td>NaN</td>\n      <td>3.0</td>\n      <td>5.0</td>\n      <td>8.0</td>\n      <td>8.0</td>\n      <td>101.0</td>\n      <td>t</td>\n      <td>62.0</td>\n    </tr>\n    <tr>\n      <th>4</th>\n      <td>40117905</td>\n      <td>2017-03-08 14:53:56</td>\n      <td>50.977080</td>\n      <td>11.070607</td>\n      <td>208.0</td>\n      <td>NaN</td>\n      <td>9.0</td>\n      <td>NaN</td>\n      <td>3.0</td>\n      <td>5.0</td>\n      <td>8.0</td>\n      <td>8.0</td>\n      <td>101.0</td>\n      <td>t</td>\n      <td>60.0</td>\n    </tr>\n    <tr>\n      <th>...</th>\n      <td>...</td>\n      <td>...</td>\n      <td>...</td>\n      <td>...</td>\n      <td>...</td>\n      <td>...</td>\n      <td>...</td>\n      <td>...</td>\n      <td>...</td>\n      <td>...</td>\n      <td>...</td>\n      <td>...</td>\n      <td>...</td>\n      <td>...</td>\n      <td>...</td>\n    </tr>\n    <tr>\n      <th>23562071</th>\n      <td>2502064046</td>\n      <td>2017-05-01 13:48:45</td>\n      <td>49.270323</td>\n      <td>11.210692</td>\n      <td>398.3</td>\n      <td>55.9</td>\n      <td>12.0</td>\n      <td>NaN</td>\n      <td>NaN</td>\n      <td>82.0</td>\n      <td>NaN</td>\n      <td>NaN</td>\n      <td>106.0</td>\n      <td>t</td>\n      <td>54.0</td>\n    </tr>\n    <tr>\n      <th>23562072</th>\n      <td>2502064046</td>\n      <td>2017-05-01 13:49:35</td>\n      <td>49.295433</td>\n      <td>11.207790</td>\n      <td>383.1</td>\n      <td>56.0</td>\n      <td>12.0</td>\n      <td>NaN</td>\n      <td>NaN</td>\n      <td>76.0</td>\n      <td>NaN</td>\n      <td>NaN</td>\n      <td>106.0</td>\n      <td>t</td>\n      <td>52.0</td>\n    </tr>\n    <tr>\n      <th>23562073</th>\n      <td>2502064046</td>\n      <td>2017-05-01 13:50:45</td>\n      <td>49.331827</td>\n      <td>11.204543</td>\n      <td>373.9</td>\n      <td>61.6</td>\n      <td>12.0</td>\n      <td>NaN</td>\n      <td>NaN</td>\n      <td>73.0</td>\n      <td>NaN</td>\n      <td>NaN</td>\n      <td>106.0</td>\n      <td>t</td>\n      <td>77.0</td>\n    </tr>\n    <tr>\n      <th>23562074</th>\n      <td>2502064046</td>\n      <td>2017-05-01 13:50:50</td>\n      <td>49.334565</td>\n      <td>11.204135</td>\n      <td>376.6</td>\n      <td>60.7</td>\n      <td>12.0</td>\n      <td>NaN</td>\n      <td>NaN</td>\n      <td>73.0</td>\n      <td>NaN</td>\n      <td>NaN</td>\n      <td>106.0</td>\n      <td>t</td>\n      <td>60.0</td>\n    </tr>\n    <tr>\n      <th>23562075</th>\n      <td>(23562075 Zeilen)</td>\n      <td>NaN</td>\n      <td>NaN</td>\n      <td>NaN</td>\n      <td>NaN</td>\n      <td>NaN</td>\n      <td>NaN</td>\n      <td>NaN</td>\n      <td>NaN</td>\n      <td>NaN</td>\n      <td>NaN</td>\n      <td>NaN</td>\n      <td>NaN</td>\n      <td>NaN</td>\n      <td>NaN</td>\n    </tr>\n  </tbody>\n</table>\n<p>23562076 rows × 15 columns</p>\n</div>"
     },
     "execution_count": 5,
     "metadata": {},
     "output_type": "execute_result"
    }
   ],
   "source": [
    "data"
   ],
   "metadata": {
    "collapsed": false,
    "ExecuteTime": {
     "end_time": "2023-05-04T13:25:11.734607Z",
     "start_time": "2023-05-04T13:25:11.696082Z"
    }
   }
  },
  {
   "cell_type": "code",
   "execution_count": null,
   "outputs": [],
   "source": [],
   "metadata": {
    "collapsed": false
   }
  }
 ],
 "metadata": {
  "kernelspec": {
   "display_name": "Python 3",
   "language": "python",
   "name": "python3"
  },
  "language_info": {
   "codemirror_mode": {
    "name": "ipython",
    "version": 2
   },
   "file_extension": ".py",
   "mimetype": "text/x-python",
   "name": "python",
   "nbconvert_exporter": "python",
   "pygments_lexer": "ipython2",
   "version": "2.7.6"
  }
 },
 "nbformat": 4,
 "nbformat_minor": 0
}
