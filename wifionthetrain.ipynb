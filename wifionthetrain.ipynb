{
 "cells": [
  {
   "cell_type": "markdown",
   "metadata": {
    "pycharm": {
     "name": "#%% md\n"
    }
   },
   "source": [
    "Download dependencies:"
   ]
  },
  {
   "cell_type": "code",
   "execution_count": null,
   "metadata": {
    "pycharm": {
     "name": "#%%\n"
    }
   },
   "outputs": [],
   "source": [
    "!pip install zipp\n",
    "!pip install urllib3==1.26.6\n",
    "!pip install requests\n",
    "!pip install pandas\n",
    "!pip install plotly\n",
    "!pip install numpy==1.23.4\n",
    "!pip install datashader\n",
    "!pip install dash"
   ]
  },
  {
   "cell_type": "markdown",
   "metadata": {
    "pycharm": {
     "name": "#%% md\n"
    }
   },
   "source": [
    "Import Dependencies:"
   ]
  },
  {
   "cell_type": "code",
   "execution_count": null,
   "metadata": {
    "pycharm": {
     "name": "#%%\n"
    }
   },
   "outputs": [],
   "source": [
    "from zipfile import ZipFile\n",
    "import requests\n",
    "import pandas as pd\n",
    "import plotly as plot\n",
    "import plotly.express as px\n",
    "import numpy as np\n",
    "import plotly.graph_objects as go\n",
    "from math import radians, sin, cos, sqrt, atan2, floor\n",
    "import datashader as ds\n",
    "\n",
    "import dash\n",
    "from dash import dcc\n",
    "from dash import html"
   ]
  },
  {
   "cell_type": "markdown",
   "metadata": {
    "pycharm": {
     "name": "#%% md\n"
    }
   },
   "source": [
    "Download the file:"
   ]
  },
  {
   "cell_type": "code",
   "execution_count": null,
   "metadata": {
    "pycharm": {
     "name": "#%%\n"
    }
   },
   "outputs": [],
   "source": [
    "url = 'https://download-data.deutschebahn.com/static/datasets/wifi/20171212_wifionice.zip'\n",
    "response = requests.get(url)\n",
    "\n",
    "with open('20171212_wifionice.zip', 'wb') as f:\n",
    "    f.write(response.content)"
   ]
  },
  {
   "cell_type": "markdown",
   "metadata": {
    "pycharm": {
     "name": "#%% md\n"
    }
   },
   "source": [
    "Extract the csv file and read dataset:"
   ]
  },
  {
   "cell_type": "code",
   "execution_count": null,
   "metadata": {
    "pycharm": {
     "name": "#%%\n"
    }
   },
   "outputs": [],
   "source": [
    "with ZipFile('20171212_wifionice.zip', 'r') as zip_file:\n",
    "    zip_file.extract('surveyor_hackathon_data_20171212.csv')\n",
    "\n",
    "data = pd.read_csv('surveyor_hackathon_data_20171212.csv', sep=';', low_memory=False)"
   ]
  },
  {
   "cell_type": "markdown",
   "metadata": {
    "pycharm": {
     "name": "#%% md\n"
    }
   },
   "source": [
    "Clean Dataset"
   ]
  },
  {
   "cell_type": "code",
   "execution_count": null,
   "metadata": {
    "pycharm": {
     "name": "#%%\n"
    }
   },
   "outputs": [],
   "source": [
    "data = data.dropna(subset=[\"gps_breite\"])\n",
    "data = data.dropna(subset=[\"gps_laenge\"])\n",
    "\n",
    "data = data.drop(data[data[\"gps_v\"] > 85].index)\n",
    "data = data.dropna(subset=[\"gps_v\"])\n",
    "\n",
    "data['tprx'] = data['tprx'].fillna(value=0)\n",
    "data['tptx'] = data['tptx'].fillna(value=0)\n",
    "\n",
    "data = data.dropna(subset=[\"pax_auth\"])\n",
    "\n",
    "data = data.drop(['gps_hoehe', 'sat', 'gps_richtung', 'pax_total', 'link_id', 'link_gw_conn'], axis=1)\n",
    "\n",
    "data.columns = ['sid', 'created', 'lat', 'lon', 'speed', 'devicecount', 'received_byte', 'sent_byte', 'ping']\n",
    "\n",
    "data['created'] = pd.to_datetime(data['created'])\n",
    "data = data.groupby(['sid', pd.Grouper(key='created', freq='1Min')]).first().reset_index()\n",
    "\n",
    "data['sid'] = data['sid'].astype(np.int64)\n",
    "data['devicecount'] = data['devicecount'].astype(int)\n",
    "\n",
    "data['speed_in_km/h'] = data['speed'] * 3.6\n",
    "data['sent_byte_per_user'] = data['sent_byte']/data['devicecount']\n",
    "data['down_byte_per_user'] = data['received_byte'] / data['devicecount']"
   ]
  },
  {
   "cell_type": "markdown",
   "metadata": {
    "pycharm": {
     "name": "#%% md\n"
    }
   },
   "source": [
    "Save smaller Dataset"
   ]
  },
  {
   "cell_type": "code",
   "execution_count": null,
   "metadata": {
    "pycharm": {
     "name": "#%%\n"
    }
   },
   "outputs": [],
   "source": [
    "data.to_csv('clean_data.csv', index=False)"
   ]
  },
  {
   "cell_type": "markdown",
   "metadata": {
    "pycharm": {
     "name": "#%% md\n"
    }
   },
   "source": [
    "Load smaller Dataset"
   ]
  },
  {
   "cell_type": "code",
   "execution_count": null,
   "metadata": {
    "pycharm": {
     "name": "#%%\n"
    }
   },
   "outputs": [],
   "source": [
    "data = pd.read_csv('clean_data.csv')"
   ]
  },
  {
   "cell_type": "markdown",
   "metadata": {
    "pycharm": {
     "name": "#%% md\n"
    }
   },
   "source": [
    "Splitting the dataset in smaller ones for the visualization"
   ]
  },
  {
   "cell_type": "code",
   "execution_count": null,
   "metadata": {
    "pycharm": {
     "name": "#%%\n"
    }
   },
   "outputs": [],
   "source": [
    "upload_data = data[['sid','devicecount','sent_byte','sent_byte_per_user']]\n",
    "download_data = data[['sid','devicecount','received_byte','down_byte_per_user']]\n",
    "download_speed_data = data[['sid','speed_in_km/h','received_byte']]\n",
    "upload_speed_data = data[['sid','speed_in_km/h','sent_byte']]\n",
    "\n",
    "\n",
    "grid_cell_size = 0.001\n",
    "\n",
    "def assign_grid_cell(lat, lon):\n",
    "    lat_cell = floor(lat / grid_cell_size)\n",
    "    lon_cell = floor(lon / grid_cell_size)\n",
    "    return f\"{lat_cell}_{lon_cell}\"\n",
    "\n",
    "data['grid_cell'] = data.apply(lambda row: assign_grid_cell(row['lat'], row['lon']), axis=1)\n",
    "\n",
    "space_data = data.groupby('grid_cell').first().reset_index()\n",
    "\n",
    "space_data = space_data.drop('grid_cell', axis=1)"
   ]
  },
  {
   "cell_type": "markdown",
   "metadata": {
    "pycharm": {
     "name": "#%% md\n"
    }
   },
   "source": [
    "Scatter Plot for Upload and User correlation"
   ]
  },
  {
   "cell_type": "code",
   "execution_count": null,
   "metadata": {
    "pycharm": {
     "name": "#%%\n"
    }
   },
   "outputs": [],
   "source": [
    "fig_sent_byte = px.scatter(upload_data, x='sent_byte_per_user', y='devicecount', title='Sent Bytes Scatter Plot')\n",
    "fig_sent_byte.update_xaxes(type='log')\n",
    "fig_sent_byte.update_traces(marker=dict(size=2))\n",
    "fig_sent_byte.show()"
   ]
  },
  {
   "cell_type": "markdown",
   "metadata": {
    "pycharm": {
     "name": "#%% md\n"
    }
   },
   "source": [
    "Scatter Plot for Download and Speed correlation"
   ]
  },
  {
   "cell_type": "code",
   "execution_count": null,
   "metadata": {
    "pycharm": {
     "name": "#%%\n"
    }
   },
   "outputs": [],
   "source": [
    "y_axis_range = [0,350]\n",
    "fig_speed_down = px.scatter(download_speed_data, x='received_byte', y='speed_in_km/h', title='Received Bytes per speed')\n",
    "fig_speed_down.update_xaxes(type='log')\n",
    "fig_speed_down.update_layout(yaxis=dict(range=y_axis_range))\n",
    "fig_speed_down.update_traces(marker=dict(size=2))\n",
    "fig_speed_down.show()"
   ]
  },
  {
   "cell_type": "markdown",
   "metadata": {
    "pycharm": {
     "name": "#%% md\n"
    }
   },
   "source": [
    "Scatter Plot for Download and User correlation"
   ]
  },
  {
   "cell_type": "code",
   "execution_count": null,
   "metadata": {
    "pycharm": {
     "name": "#%%\n"
    }
   },
   "outputs": [],
   "source": [
    "fig_down_byte = px.scatter(download_data, x='down_byte_per_user', y='devicecount', title='Download Bytes Scatter Plot')\n",
    "fig_down_byte.update_xaxes(type='log')\n",
    "fig_down_byte.update_traces(marker=dict(size=2))\n",
    "fig_down_byte.show()"
   ]
  },
  {
   "cell_type": "markdown",
   "metadata": {
    "pycharm": {
     "name": "#%% md\n"
    }
   },
   "source": [
    "Scatter Plot for Upload and Speed correlation"
   ]
  },
  {
   "cell_type": "code",
   "execution_count": null,
   "metadata": {
    "pycharm": {
     "name": "#%%\n"
    }
   },
   "outputs": [],
   "source": [
    "y_axis_range = [0,350]\n",
    "fig_speed_up = px.scatter(upload_speed_data, x='sent_byte', y='speed_in_km/h', title='Send Bytes per speed')\n",
    "fig_speed_up.update_xaxes(type='log')\n",
    "fig_speed_up.update_layout(yaxis=dict(range=y_axis_range))\n",
    "fig_speed_up.update_traces(marker=dict(size=2))\n",
    "fig_speed_up.show()"
   ]
  },
  {
   "cell_type": "markdown",
   "metadata": {
    "pycharm": {
     "name": "#%% md\n"
    }
   },
   "source": [
    "Map Scatterplot"
   ]
  },
  {
   "cell_type": "code",
   "execution_count": null,
   "metadata": {
    "pycharm": {
     "name": "#%%\n"
    }
   },
   "outputs": [],
   "source": [
    "fig_map = go.Figure(go.Scattergeo(\n",
    "    lat=space_data['lat'],  # Latitude column from DataFrame\n",
    "    lon=space_data['lon'],  # Longitude column from DataFrame\n",
    "    mode='markers',\n",
    "    marker=dict(\n",
    "        size=5,\n",
    "        color=space_data['received_byte'],\n",
    "        colorscale='Viridis',\n",
    "        opacity=0.7,\n",
    "        colorbar=dict(title='Download rate')\n",
    "    ),\n",
    "))\n",
    "\n",
    "# Set the layout properties for the map\n",
    "fig_map.update_layout(\n",
    "    geo=dict(\n",
    "        projection_type='natural earth',\n",
    "        center=dict(lat=51.1657, lon=10.4515),\n",
    "        scope='europe',\n",
    "        fitbounds=\"locations\"\n",
    "    ),\n",
    "    showlegend=True\n",
    ")\n",
    "\n",
    "# Show the map\n",
    "fig_map.show()"
   ]
  },
  {
   "cell_type": "markdown",
   "metadata": {
    "pycharm": {
     "name": "#%% md\n"
    }
   },
   "source": [
    "Heatmap of device vs speed"
   ]
  },
  {
   "cell_type": "code",
   "execution_count": null,
   "metadata": {
    "pycharm": {
     "name": "#%%\n"
    }
   },
   "outputs": [],
   "source": [
    "cvs = ds.Canvas(plot_width=100, plot_height=100)\n",
    "agg = cvs.points(data, 'devicecount', 'sent_byte')\n",
    "zero_mask = agg.values == 0\n",
    "agg.values = np.log10(agg.values, where=np.logical_not(zero_mask))\n",
    "agg.values[zero_mask] = np.nan\n",
    "fig_heat = px.imshow(agg, origin='lower', labels={'color':'Log10(count)'})\n",
    "fig_heat.update_traces(hoverongaps=False)\n",
    "fig_heat.update_layout(coloraxis_colorbar=dict(title='Count', tickprefix='1.e'))\n",
    "fig_heat.show()"
   ]
  },
  {
   "cell_type": "markdown",
   "metadata": {
    "pycharm": {
     "name": "#%% md\n"
    }
   },
   "source": [
    "Some Dash"
   ]
  },
  {
   "cell_type": "code",
   "execution_count": null,
   "metadata": {
    "pycharm": {
     "name": "#%%\n"
    }
   },
   "outputs": [],
   "source": [
    "# Create the Dash application\n",
    "app = dash.Dash()\n",
    "\n",
    "# Define your Plotly figures\n",
    "figure1 = fig_map\n",
    "figure2 = fig_speed_up\n",
    "figure3 = fig_heat\n",
    "figure4 = fig_down_byte\n",
    "\n",
    "app.layout = html.Div(\n",
    "    [\n",
    "        html.H1(\"Internet speeds on ICE\"),\n",
    "        html.Div(\n",
    "            [\n",
    "                html.Div(\n",
    "                    dcc.Graph(figure=figure1),\n",
    "                    style={'width': '45%', 'height': '500px'}\n",
    "                ),\n",
    "                html.Div(\n",
    "                    dcc.Graph(figure=figure2),\n",
    "                    style={'width': '45%', 'height': '500px'}\n",
    "                ),\n",
    "                html.Div(\n",
    "                    dcc.Graph(figure=figure3),\n",
    "                    style={'width': '45%', 'height': '500px'}\n",
    "                ),\n",
    "                html.Div(\n",
    "                    dcc.Graph(figure=figure4),\n",
    "                    style={'width': '45%', 'height': '500px'}\n",
    "                ),\n",
    "            ],\n",
    "            style={'display': 'flex', 'flex-wrap': 'wrap', 'justify-content': 'space-evenly'},\n",
    "        ),\n",
    "    ],\n",
    "    style={'text-align': 'center'}\n",
    ")\n",
    "\n",
    "\n",
    "app.run_server(debug=True, use_reloader=False)"
   ]
  }
 ],
 "metadata": {
  "kernelspec": {
   "display_name": "Python 3 (ipykernel)",
   "language": "python",
   "name": "python3"
  },
  "language_info": {
   "codemirror_mode": {
    "name": "ipython",
    "version": 3
   },
   "file_extension": ".py",
   "mimetype": "text/x-python",
   "name": "python",
   "nbconvert_exporter": "python",
   "pygments_lexer": "ipython3",
   "version": "3.9.6"
  }
 },
 "nbformat": 4,
 "nbformat_minor": 1
}
