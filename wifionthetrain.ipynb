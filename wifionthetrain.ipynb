{
 "cells": [
  {
   "cell_type": "markdown",
   "source": [
    "Download dependencies:"
   ],
   "metadata": {
    "collapsed": false
   }
  },
  {
   "cell_type": "code",
   "execution_count": 2,
   "outputs": [
    {
     "name": "stdout",
     "output_type": "stream",
     "text": [
      "Requirement already satisfied: zipp in d:\\python\\lib\\site-packages (3.15.0)\n"
     ]
    },
    {
     "name": "stderr",
     "output_type": "stream",
     "text": [
      "\n",
      "[notice] A new release of pip available: 22.3.1 -> 23.1.2\n",
      "[notice] To update, run: D:\\Python\\python.exe -m pip install --upgrade pip\n"
     ]
    },
    {
     "name": "stdout",
     "output_type": "stream",
     "text": [
      "Requirement already satisfied: requests in d:\\python\\lib\\site-packages (2.30.0)\n",
      "Requirement already satisfied: charset-normalizer<4,>=2 in d:\\python\\lib\\site-packages (from requests) (3.1.0)\n",
      "Requirement already satisfied: idna<4,>=2.5 in d:\\python\\lib\\site-packages (from requests) (3.4)\n",
      "Requirement already satisfied: urllib3<3,>=1.21.1 in d:\\python\\lib\\site-packages (from requests) (2.0.2)\n",
      "Requirement already satisfied: certifi>=2017.4.17 in d:\\python\\lib\\site-packages (from requests) (2023.5.7)\n"
     ]
    },
    {
     "name": "stderr",
     "output_type": "stream",
     "text": [
      "\n",
      "[notice] A new release of pip available: 22.3.1 -> 23.1.2\n",
      "[notice] To update, run: D:\\Python\\python.exe -m pip install --upgrade pip\n"
     ]
    },
    {
     "name": "stdout",
     "output_type": "stream",
     "text": [
      "Requirement already satisfied: pandas in d:\\python\\lib\\site-packages (2.0.1)\n",
      "Requirement already satisfied: python-dateutil>=2.8.2 in d:\\python\\lib\\site-packages (from pandas) (2.8.2)\n",
      "Requirement already satisfied: pytz>=2020.1 in d:\\python\\lib\\site-packages (from pandas) (2023.3)\n",
      "Requirement already satisfied: tzdata>=2022.1 in d:\\python\\lib\\site-packages (from pandas) (2023.3)\n",
      "Requirement already satisfied: numpy>=1.21.0 in d:\\python\\lib\\site-packages (from pandas) (1.24.3)\n",
      "Requirement already satisfied: six>=1.5 in d:\\python\\lib\\site-packages (from python-dateutil>=2.8.2->pandas) (1.16.0)\n"
     ]
    },
    {
     "name": "stderr",
     "output_type": "stream",
     "text": [
      "\n",
      "[notice] A new release of pip available: 22.3.1 -> 23.1.2\n",
      "[notice] To update, run: D:\\Python\\python.exe -m pip install --upgrade pip\n"
     ]
    },
    {
     "name": "stdout",
     "output_type": "stream",
     "text": [
      "Collecting plotly\n",
      "  Downloading plotly-5.14.1-py2.py3-none-any.whl (15.3 MB)\n",
      "     --------------------------------------- 15.3/15.3 MB 10.1 MB/s eta 0:00:00\n",
      "Collecting tenacity>=6.2.0\n",
      "  Downloading tenacity-8.2.2-py3-none-any.whl (24 kB)\n",
      "Requirement already satisfied: packaging in d:\\python\\lib\\site-packages (from plotly) (23.1)\n",
      "Installing collected packages: tenacity, plotly\n",
      "Successfully installed plotly-5.14.1 tenacity-8.2.2\n"
     ]
    },
    {
     "name": "stderr",
     "output_type": "stream",
     "text": [
      "\n",
      "[notice] A new release of pip available: 22.3.1 -> 23.1.2\n",
      "[notice] To update, run: D:\\Python\\python.exe -m pip install --upgrade pip\n"
     ]
    }
   ],
   "source": [
    "!pip install zipp\n",
    "!pip install requests\n",
    "!pip install pandas\n",
    "!pip install plotly"
   ],
   "metadata": {
    "collapsed": false,
    "ExecuteTime": {
     "end_time": "2023-05-18T14:02:33.507195500Z",
     "start_time": "2023-05-18T14:00:27.283037100Z"
    }
   }
  },
  {
   "cell_type": "markdown",
   "source": [
    "Import Dependencies:"
   ],
   "metadata": {
    "collapsed": false
   }
  },
  {
   "cell_type": "code",
   "execution_count": 10,
   "outputs": [],
   "source": [
    "from zipfile import ZipFile\n",
    "import requests\n",
    "import pandas as pd\n",
    "import plotly as plot\n",
    "import plotly.express as px\n",
    "import numpy as np\n",
    "import plotly.graph_objects as go"
   ],
   "metadata": {
    "collapsed": false,
    "ExecuteTime": {
     "end_time": "2023-05-18T15:33:46.995500500Z",
     "start_time": "2023-05-18T15:33:46.968052600Z"
    }
   }
  },
  {
   "cell_type": "markdown",
   "source": [
    "Download the file:"
   ],
   "metadata": {
    "collapsed": false
   }
  },
  {
   "cell_type": "code",
   "execution_count": 3,
   "outputs": [],
   "source": [
    "url = 'https://download-data.deutschebahn.com/static/datasets/wifi/20171212_wifionice.zip'\n",
    "response = requests.get(url)\n",
    "\n",
    "with open('20171212_wifionice.zip', 'wb') as f:\n",
    "    f.write(response.content)"
   ],
   "metadata": {
    "collapsed": false,
    "ExecuteTime": {
     "end_time": "2023-05-17T11:39:45.719654Z",
     "start_time": "2023-05-17T11:39:39.296041Z"
    }
   }
  },
  {
   "cell_type": "markdown",
   "source": [
    "Extract the csv file and read dataset:"
   ],
   "metadata": {
    "collapsed": false
   }
  },
  {
   "cell_type": "code",
   "execution_count": 4,
   "outputs": [],
   "source": [
    "with ZipFile('20171212_wifionice.zip', 'r') as zip_file:\n",
    "    zip_file.extract('surveyor_hackathon_data_20171212.csv')\n",
    "\n",
    "data = pd.read_csv('surveyor_hackathon_data_20171212.csv', sep=';', low_memory=False)"
   ],
   "metadata": {
    "collapsed": false,
    "ExecuteTime": {
     "end_time": "2023-05-17T11:40:55.325946Z",
     "start_time": "2023-05-17T11:39:45.720292Z"
    }
   }
  },
  {
   "cell_type": "markdown",
   "source": [
    "remove missing locations"
   ],
   "metadata": {
    "collapsed": false
   }
  },
  {
   "cell_type": "code",
   "execution_count": 5,
   "outputs": [],
   "source": [
    "data = data.dropna(subset=[\"gps_breite\"])\n",
    "data = data.dropna(subset=[\"gps_laenge\"])"
   ],
   "metadata": {
    "collapsed": false,
    "ExecuteTime": {
     "end_time": "2023-05-17T11:40:59.129564Z",
     "start_time": "2023-05-17T11:40:55.330677Z"
    }
   }
  },
  {
   "cell_type": "markdown",
   "source": [
    "remove impossible speeds"
   ],
   "metadata": {
    "collapsed": false
   }
  },
  {
   "cell_type": "code",
   "execution_count": 6,
   "outputs": [],
   "source": [
    "data = data.drop(data[data[\"gps_v\"] > 85].index)\n",
    "data = data.dropna(subset=[\"gps_v\"])"
   ],
   "metadata": {
    "collapsed": false,
    "ExecuteTime": {
     "end_time": "2023-05-17T11:41:03.929573Z",
     "start_time": "2023-05-17T11:40:59.131706Z"
    }
   }
  },
  {
   "cell_type": "markdown",
   "source": [
    "set transfer speed NaN to 0"
   ],
   "metadata": {
    "collapsed": false
   }
  },
  {
   "cell_type": "code",
   "execution_count": 7,
   "outputs": [],
   "source": [
    "data['tprx'] = data['tprx'].fillna(value=0)\n",
    "data['tptx'] = data['tptx'].fillna(value=0)"
   ],
   "metadata": {
    "collapsed": false,
    "ExecuteTime": {
     "end_time": "2023-05-17T11:41:04.098262Z",
     "start_time": "2023-05-17T11:41:03.928304Z"
    }
   }
  },
  {
   "cell_type": "markdown",
   "source": [
    "pax_auth NaN"
   ],
   "metadata": {
    "collapsed": false
   }
  },
  {
   "cell_type": "code",
   "execution_count": 8,
   "outputs": [],
   "source": [
    "data = data.dropna(subset=[\"pax_auth\"])"
   ],
   "metadata": {
    "collapsed": false,
    "ExecuteTime": {
     "end_time": "2023-05-17T11:41:05.442038Z",
     "start_time": "2023-05-17T11:41:04.132873Z"
    }
   }
  },
  {
   "cell_type": "markdown",
   "source": [
    "drop unnecessary columns"
   ],
   "metadata": {
    "collapsed": false
   }
  },
  {
   "cell_type": "code",
   "execution_count": 9,
   "outputs": [],
   "source": [
    "data = data.drop(['gps_hoehe', 'sat', 'gps_richtung', 'pax_total', 'link_id', 'link_gw_conn'], axis=1)"
   ],
   "metadata": {
    "collapsed": false,
    "ExecuteTime": {
     "end_time": "2023-05-17T11:41:06.036436Z",
     "start_time": "2023-05-17T11:41:06.034984Z"
    }
   }
  },
  {
   "cell_type": "code",
   "execution_count": 10,
   "outputs": [],
   "source": [
    "data.columns = ['sid', 'created', 'gps_width', 'gps_length', 'speed', 'devicecount', 'received_byte', 'sent_byte', 'ping']"
   ],
   "metadata": {
    "collapsed": false,
    "ExecuteTime": {
     "end_time": "2023-05-17T11:41:06.040170Z",
     "start_time": "2023-05-17T11:41:06.037683Z"
    }
   }
  },
  {
   "cell_type": "code",
   "execution_count": 11,
   "outputs": [],
   "source": [
    "data['created'] = pd.to_datetime(data['created'])\n",
    "data = data.groupby(['sid', pd.Grouper(key='created', freq='1Min')]).first().reset_index()"
   ],
   "metadata": {
    "collapsed": false,
    "ExecuteTime": {
     "end_time": "2023-05-17T11:41:19.521270Z",
     "start_time": "2023-05-17T11:41:06.152232Z"
    }
   }
  },
  {
   "cell_type": "code",
   "execution_count": null,
   "outputs": [],
   "source": [
    "data['sid'] = data['sid'].astype(int)\n",
    "data['devicecount'] = data['devicecount'].astype(int)\n",
    "data"
   ],
   "metadata": {
    "collapsed": false
   }
  },
  {
   "cell_type": "code",
   "execution_count": 13,
   "outputs": [],
   "source": [
    "data.to_csv('clean_data.csv', index=False)"
   ],
   "metadata": {
    "collapsed": false,
    "ExecuteTime": {
     "end_time": "2023-05-17T11:44:50.016872Z",
     "start_time": "2023-05-17T11:44:48.745802Z"
    }
   }
  },
  {
   "cell_type": "code",
   "execution_count": 2,
   "outputs": [
    {
     "data": {
      "text/plain": "              sid              created  gps_width  gps_length  speed   \n0       250189005  2017-05-01 08:34:00  53.578370    9.926510    0.0  \\\n1       250189005  2017-05-01 08:35:00  53.578370    9.926515    0.0   \n2       250189005  2017-05-01 08:36:00  53.578368    9.926522    0.0   \n3       250189005  2017-05-01 08:39:00  53.578368    9.926532    0.1   \n4       250189005  2017-05-01 08:40:00  53.578370    9.926528    0.1   \n...           ...                  ...        ...         ...    ...   \n324375   58070443  2017-05-02 08:30:00  52.488147   13.503065    0.0   \n324376   58070443  2017-05-02 08:31:00  52.488147   13.503067    0.0   \n324377   58070443  2017-05-02 08:32:00  52.488145   13.503070    0.0   \n324378   58070443  2017-05-02 08:33:00  52.488147   13.503067    0.0   \n324379   58070443  2017-05-02 08:34:00  52.488147   13.503063    0.0   \n\n        devicecount  received_byte  sent_byte  ping  \n0                 2         2075.0      327.0  43.0  \n1                 2           81.0       86.0  48.0  \n2                 2         4307.0      911.0  49.0  \n3                 2         1523.0      494.0  44.0  \n4                 2         4469.0      573.0  43.0  \n...             ...            ...        ...   ...  \n324375            1          163.0      261.0  51.0  \n324376            1          233.0      340.0  54.0  \n324377            1          148.0      140.0  58.0  \n324378            1          142.0      139.0  51.0  \n324379            1          122.0      114.0  63.0  \n\n[324380 rows x 9 columns]",
      "text/html": "<div>\n<style scoped>\n    .dataframe tbody tr th:only-of-type {\n        vertical-align: middle;\n    }\n\n    .dataframe tbody tr th {\n        vertical-align: top;\n    }\n\n    .dataframe thead th {\n        text-align: right;\n    }\n</style>\n<table border=\"1\" class=\"dataframe\">\n  <thead>\n    <tr style=\"text-align: right;\">\n      <th></th>\n      <th>sid</th>\n      <th>created</th>\n      <th>gps_width</th>\n      <th>gps_length</th>\n      <th>speed</th>\n      <th>devicecount</th>\n      <th>received_byte</th>\n      <th>sent_byte</th>\n      <th>ping</th>\n    </tr>\n  </thead>\n  <tbody>\n    <tr>\n      <th>0</th>\n      <td>250189005</td>\n      <td>2017-05-01 08:34:00</td>\n      <td>53.578370</td>\n      <td>9.926510</td>\n      <td>0.0</td>\n      <td>2</td>\n      <td>2075.0</td>\n      <td>327.0</td>\n      <td>43.0</td>\n    </tr>\n    <tr>\n      <th>1</th>\n      <td>250189005</td>\n      <td>2017-05-01 08:35:00</td>\n      <td>53.578370</td>\n      <td>9.926515</td>\n      <td>0.0</td>\n      <td>2</td>\n      <td>81.0</td>\n      <td>86.0</td>\n      <td>48.0</td>\n    </tr>\n    <tr>\n      <th>2</th>\n      <td>250189005</td>\n      <td>2017-05-01 08:36:00</td>\n      <td>53.578368</td>\n      <td>9.926522</td>\n      <td>0.0</td>\n      <td>2</td>\n      <td>4307.0</td>\n      <td>911.0</td>\n      <td>49.0</td>\n    </tr>\n    <tr>\n      <th>3</th>\n      <td>250189005</td>\n      <td>2017-05-01 08:39:00</td>\n      <td>53.578368</td>\n      <td>9.926532</td>\n      <td>0.1</td>\n      <td>2</td>\n      <td>1523.0</td>\n      <td>494.0</td>\n      <td>44.0</td>\n    </tr>\n    <tr>\n      <th>4</th>\n      <td>250189005</td>\n      <td>2017-05-01 08:40:00</td>\n      <td>53.578370</td>\n      <td>9.926528</td>\n      <td>0.1</td>\n      <td>2</td>\n      <td>4469.0</td>\n      <td>573.0</td>\n      <td>43.0</td>\n    </tr>\n    <tr>\n      <th>...</th>\n      <td>...</td>\n      <td>...</td>\n      <td>...</td>\n      <td>...</td>\n      <td>...</td>\n      <td>...</td>\n      <td>...</td>\n      <td>...</td>\n      <td>...</td>\n    </tr>\n    <tr>\n      <th>324375</th>\n      <td>58070443</td>\n      <td>2017-05-02 08:30:00</td>\n      <td>52.488147</td>\n      <td>13.503065</td>\n      <td>0.0</td>\n      <td>1</td>\n      <td>163.0</td>\n      <td>261.0</td>\n      <td>51.0</td>\n    </tr>\n    <tr>\n      <th>324376</th>\n      <td>58070443</td>\n      <td>2017-05-02 08:31:00</td>\n      <td>52.488147</td>\n      <td>13.503067</td>\n      <td>0.0</td>\n      <td>1</td>\n      <td>233.0</td>\n      <td>340.0</td>\n      <td>54.0</td>\n    </tr>\n    <tr>\n      <th>324377</th>\n      <td>58070443</td>\n      <td>2017-05-02 08:32:00</td>\n      <td>52.488145</td>\n      <td>13.503070</td>\n      <td>0.0</td>\n      <td>1</td>\n      <td>148.0</td>\n      <td>140.0</td>\n      <td>58.0</td>\n    </tr>\n    <tr>\n      <th>324378</th>\n      <td>58070443</td>\n      <td>2017-05-02 08:33:00</td>\n      <td>52.488147</td>\n      <td>13.503067</td>\n      <td>0.0</td>\n      <td>1</td>\n      <td>142.0</td>\n      <td>139.0</td>\n      <td>51.0</td>\n    </tr>\n    <tr>\n      <th>324379</th>\n      <td>58070443</td>\n      <td>2017-05-02 08:34:00</td>\n      <td>52.488147</td>\n      <td>13.503063</td>\n      <td>0.0</td>\n      <td>1</td>\n      <td>122.0</td>\n      <td>114.0</td>\n      <td>63.0</td>\n    </tr>\n  </tbody>\n</table>\n<p>324380 rows × 9 columns</p>\n</div>"
     },
     "execution_count": 2,
     "metadata": {},
     "output_type": "execute_result"
    }
   ],
   "source": [
    "data = pd.read_csv('clean_data.csv')\n",
    "data"
   ],
   "metadata": {
    "collapsed": false,
    "ExecuteTime": {
     "end_time": "2023-05-18T14:33:25.735032100Z",
     "start_time": "2023-05-18T14:33:24.989793800Z"
    }
   }
  },
  {
   "cell_type": "markdown",
   "source": [
    "Changes by Niklas"
   ],
   "metadata": {
    "collapsed": false
   }
  },
  {
   "cell_type": "markdown",
   "source": [
    "Creating new Categories: Speed in km/h, Sent byte per User, Received byte per User"
   ],
   "metadata": {
    "collapsed": false
   }
  },
  {
   "cell_type": "code",
   "execution_count": 3,
   "outputs": [
    {
     "data": {
      "text/plain": "              sid              created  gps_width  gps_length  speed   \n0       250189005  2017-05-01 08:34:00  53.578370    9.926510    0.0  \\\n1       250189005  2017-05-01 08:35:00  53.578370    9.926515    0.0   \n2       250189005  2017-05-01 08:36:00  53.578368    9.926522    0.0   \n3       250189005  2017-05-01 08:39:00  53.578368    9.926532    0.1   \n4       250189005  2017-05-01 08:40:00  53.578370    9.926528    0.1   \n...           ...                  ...        ...         ...    ...   \n324375   58070443  2017-05-02 08:30:00  52.488147   13.503065    0.0   \n324376   58070443  2017-05-02 08:31:00  52.488147   13.503067    0.0   \n324377   58070443  2017-05-02 08:32:00  52.488145   13.503070    0.0   \n324378   58070443  2017-05-02 08:33:00  52.488147   13.503067    0.0   \n324379   58070443  2017-05-02 08:34:00  52.488147   13.503063    0.0   \n\n        devicecount  received_byte  sent_byte  ping  speed_in_km/h   \n0                 2         2075.0      327.0  43.0           0.00  \\\n1                 2           81.0       86.0  48.0           0.00   \n2                 2         4307.0      911.0  49.0           0.00   \n3                 2         1523.0      494.0  44.0           0.36   \n4                 2         4469.0      573.0  43.0           0.36   \n...             ...            ...        ...   ...            ...   \n324375            1          163.0      261.0  51.0           0.00   \n324376            1          233.0      340.0  54.0           0.00   \n324377            1          148.0      140.0  58.0           0.00   \n324378            1          142.0      139.0  51.0           0.00   \n324379            1          122.0      114.0  63.0           0.00   \n\n        sent_byte_per_user  down_byte_per_user  \n0                    163.5              1037.5  \n1                     43.0                40.5  \n2                    455.5              2153.5  \n3                    247.0               761.5  \n4                    286.5              2234.5  \n...                    ...                 ...  \n324375               261.0               163.0  \n324376               340.0               233.0  \n324377               140.0               148.0  \n324378               139.0               142.0  \n324379               114.0               122.0  \n\n[324380 rows x 12 columns]",
      "text/html": "<div>\n<style scoped>\n    .dataframe tbody tr th:only-of-type {\n        vertical-align: middle;\n    }\n\n    .dataframe tbody tr th {\n        vertical-align: top;\n    }\n\n    .dataframe thead th {\n        text-align: right;\n    }\n</style>\n<table border=\"1\" class=\"dataframe\">\n  <thead>\n    <tr style=\"text-align: right;\">\n      <th></th>\n      <th>sid</th>\n      <th>created</th>\n      <th>gps_width</th>\n      <th>gps_length</th>\n      <th>speed</th>\n      <th>devicecount</th>\n      <th>received_byte</th>\n      <th>sent_byte</th>\n      <th>ping</th>\n      <th>speed_in_km/h</th>\n      <th>sent_byte_per_user</th>\n      <th>down_byte_per_user</th>\n    </tr>\n  </thead>\n  <tbody>\n    <tr>\n      <th>0</th>\n      <td>250189005</td>\n      <td>2017-05-01 08:34:00</td>\n      <td>53.578370</td>\n      <td>9.926510</td>\n      <td>0.0</td>\n      <td>2</td>\n      <td>2075.0</td>\n      <td>327.0</td>\n      <td>43.0</td>\n      <td>0.00</td>\n      <td>163.5</td>\n      <td>1037.5</td>\n    </tr>\n    <tr>\n      <th>1</th>\n      <td>250189005</td>\n      <td>2017-05-01 08:35:00</td>\n      <td>53.578370</td>\n      <td>9.926515</td>\n      <td>0.0</td>\n      <td>2</td>\n      <td>81.0</td>\n      <td>86.0</td>\n      <td>48.0</td>\n      <td>0.00</td>\n      <td>43.0</td>\n      <td>40.5</td>\n    </tr>\n    <tr>\n      <th>2</th>\n      <td>250189005</td>\n      <td>2017-05-01 08:36:00</td>\n      <td>53.578368</td>\n      <td>9.926522</td>\n      <td>0.0</td>\n      <td>2</td>\n      <td>4307.0</td>\n      <td>911.0</td>\n      <td>49.0</td>\n      <td>0.00</td>\n      <td>455.5</td>\n      <td>2153.5</td>\n    </tr>\n    <tr>\n      <th>3</th>\n      <td>250189005</td>\n      <td>2017-05-01 08:39:00</td>\n      <td>53.578368</td>\n      <td>9.926532</td>\n      <td>0.1</td>\n      <td>2</td>\n      <td>1523.0</td>\n      <td>494.0</td>\n      <td>44.0</td>\n      <td>0.36</td>\n      <td>247.0</td>\n      <td>761.5</td>\n    </tr>\n    <tr>\n      <th>4</th>\n      <td>250189005</td>\n      <td>2017-05-01 08:40:00</td>\n      <td>53.578370</td>\n      <td>9.926528</td>\n      <td>0.1</td>\n      <td>2</td>\n      <td>4469.0</td>\n      <td>573.0</td>\n      <td>43.0</td>\n      <td>0.36</td>\n      <td>286.5</td>\n      <td>2234.5</td>\n    </tr>\n    <tr>\n      <th>...</th>\n      <td>...</td>\n      <td>...</td>\n      <td>...</td>\n      <td>...</td>\n      <td>...</td>\n      <td>...</td>\n      <td>...</td>\n      <td>...</td>\n      <td>...</td>\n      <td>...</td>\n      <td>...</td>\n      <td>...</td>\n    </tr>\n    <tr>\n      <th>324375</th>\n      <td>58070443</td>\n      <td>2017-05-02 08:30:00</td>\n      <td>52.488147</td>\n      <td>13.503065</td>\n      <td>0.0</td>\n      <td>1</td>\n      <td>163.0</td>\n      <td>261.0</td>\n      <td>51.0</td>\n      <td>0.00</td>\n      <td>261.0</td>\n      <td>163.0</td>\n    </tr>\n    <tr>\n      <th>324376</th>\n      <td>58070443</td>\n      <td>2017-05-02 08:31:00</td>\n      <td>52.488147</td>\n      <td>13.503067</td>\n      <td>0.0</td>\n      <td>1</td>\n      <td>233.0</td>\n      <td>340.0</td>\n      <td>54.0</td>\n      <td>0.00</td>\n      <td>340.0</td>\n      <td>233.0</td>\n    </tr>\n    <tr>\n      <th>324377</th>\n      <td>58070443</td>\n      <td>2017-05-02 08:32:00</td>\n      <td>52.488145</td>\n      <td>13.503070</td>\n      <td>0.0</td>\n      <td>1</td>\n      <td>148.0</td>\n      <td>140.0</td>\n      <td>58.0</td>\n      <td>0.00</td>\n      <td>140.0</td>\n      <td>148.0</td>\n    </tr>\n    <tr>\n      <th>324378</th>\n      <td>58070443</td>\n      <td>2017-05-02 08:33:00</td>\n      <td>52.488147</td>\n      <td>13.503067</td>\n      <td>0.0</td>\n      <td>1</td>\n      <td>142.0</td>\n      <td>139.0</td>\n      <td>51.0</td>\n      <td>0.00</td>\n      <td>139.0</td>\n      <td>142.0</td>\n    </tr>\n    <tr>\n      <th>324379</th>\n      <td>58070443</td>\n      <td>2017-05-02 08:34:00</td>\n      <td>52.488147</td>\n      <td>13.503063</td>\n      <td>0.0</td>\n      <td>1</td>\n      <td>122.0</td>\n      <td>114.0</td>\n      <td>63.0</td>\n      <td>0.00</td>\n      <td>114.0</td>\n      <td>122.0</td>\n    </tr>\n  </tbody>\n</table>\n<p>324380 rows × 12 columns</p>\n</div>"
     },
     "execution_count": 3,
     "metadata": {},
     "output_type": "execute_result"
    }
   ],
   "source": [
    "data['speed_in_km/h'] = data['speed'] * 3.6\n",
    "data['sent_byte_per_user'] = data['sent_byte']/data['devicecount']\n",
    "data['down_byte_per_user'] = data['received_byte'] / data['devicecount']\n",
    "data"
   ],
   "metadata": {
    "collapsed": false,
    "ExecuteTime": {
     "end_time": "2023-05-18T14:33:32.799707600Z",
     "start_time": "2023-05-18T14:33:32.740481200Z"
    }
   }
  },
  {
   "cell_type": "markdown",
   "source": [
    "Splitting the dataset in smaller ones for the visualization"
   ],
   "metadata": {
    "collapsed": false
   }
  },
  {
   "cell_type": "code",
   "execution_count": 4,
   "outputs": [],
   "source": [
    "upload_data = data[['sid','devicecount','sent_byte','sent_byte_per_user']]\n",
    "download_data = data[['sid','devicecount','received_byte','down_byte_per_user']]\n",
    "download_speed_data = data[['sid','speed_in_km/h','received_byte']]\n",
    "upload_speed_data = data[['sid','speed_in_km/h','sent_byte']]"
   ],
   "metadata": {
    "collapsed": false,
    "ExecuteTime": {
     "end_time": "2023-05-18T14:33:51.720646600Z",
     "start_time": "2023-05-18T14:33:51.688141200Z"
    }
   }
  },
  {
   "cell_type": "markdown",
   "source": [
    "Scatter Plot for Upload and User correlation"
   ],
   "metadata": {
    "collapsed": false
   }
  },
  {
   "cell_type": "code",
   "execution_count": null,
   "outputs": [],
   "source": [
    "fig_sent_byte = px.scatter(upload_data, x='sent_byte_per_user', y='devicecount', title='Sent Bytes Scatter Plot')\n",
    "fig_sent_byte.update_xaxes(type='log')\n",
    "fig_sent_byte.update_traces(marker=dict(size=2))\n",
    "fig_sent_byte.show()"
   ],
   "metadata": {
    "collapsed": false
   }
  },
  {
   "cell_type": "markdown",
   "source": [
    "Scatter Plot for Download and Speed correlation"
   ],
   "metadata": {
    "collapsed": false
   }
  },
  {
   "cell_type": "code",
   "execution_count": null,
   "outputs": [],
   "source": [
    "y_axis_range = [0,350]\n",
    "fig_speed_down = px.scatter(download_speed_data, x='received_byte', y='speed_in_km/h', title='Received Bytes per speed')\n",
    "fig_speed_down.update_xaxes(type='log')\n",
    "fig_speed_down.update_layout(yaxis=dict(range=y_axis_range))\n",
    "fig_speed_down.update_traces(marker=dict(size=2))\n",
    "fig_speed_down.show()"
   ],
   "metadata": {
    "collapsed": false
   }
  },
  {
   "cell_type": "markdown",
   "source": [
    "Scatter Plot for Download and User correlation"
   ],
   "metadata": {
    "collapsed": false
   }
  },
  {
   "cell_type": "code",
   "execution_count": null,
   "outputs": [],
   "source": [
    "fig_down_byte = px.scatter(download_data, x='down_byte_per_user', y='devicecount', title='Download Bytes Scatter Plot')\n",
    "fig_down_byte.update_xaxes(type='log')\n",
    "fig_down_byte.update_traces(marker=dict(size=2))\n",
    "fig_down_byte.show()"
   ],
   "metadata": {
    "collapsed": false
   }
  },
  {
   "cell_type": "markdown",
   "source": [
    "Scatter Plot for Upload and Speed correlation"
   ],
   "metadata": {
    "collapsed": false
   }
  },
  {
   "cell_type": "code",
   "execution_count": null,
   "outputs": [],
   "source": [
    "y_axis_range = [0,350]\n",
    "fig_speed_up = px.scatter(upload_speed_data, x='sent_byte', y='speed_in_km/h', title='Send Bytes per speed')\n",
    "fig_speed_up.update_xaxes(type='log')\n",
    "fig_speed_up.update_layout(yaxis=dict(range=y_axis_range))\n",
    "fig_speed_up.update_traces(marker=dict(size=2))\n",
    "fig_speed_up.show()"
   ],
   "metadata": {
    "collapsed": false
   }
  },
  {
   "cell_type": "code",
   "execution_count": null,
   "outputs": [],
   "source": [
    "fig_map = go.Figure(go.Scattergeo(\n",
    "    lat=data['gps_width'],  # Latitude column from DataFrame\n",
    "    lon=data['gps_length'],  # Longitude column from DataFrame\n",
    "    mode='markers',\n",
    "    marker=dict(\n",
    "        size=10,\n",
    "        color='blue',\n",
    "        opacity=0.7,\n",
    "    ),\n",
    "))\n",
    "\n",
    "# Set the layout properties for the map\n",
    "fig_map.update_layout(\n",
    "    geo=dict(\n",
    "        projection_type='natural earth'\n",
    "    ),\n",
    "    showlegend=False\n",
    ")\n",
    "\n",
    "# Show the map\n",
    "fig_map.show()"
   ],
   "metadata": {
    "collapsed": false
   }
  },
  {
   "cell_type": "code",
   "execution_count": null,
   "outputs": [],
   "source": [],
   "metadata": {
    "collapsed": false
   }
  }
 ],
 "metadata": {
  "kernelspec": {
   "display_name": "Python 3",
   "language": "python",
   "name": "python3"
  },
  "language_info": {
   "codemirror_mode": {
    "name": "ipython",
    "version": 2
   },
   "file_extension": ".py",
   "mimetype": "text/x-python",
   "name": "python",
   "nbconvert_exporter": "python",
   "pygments_lexer": "ipython2",
   "version": "2.7.6"
  }
 },
 "nbformat": 4,
 "nbformat_minor": 0
}
