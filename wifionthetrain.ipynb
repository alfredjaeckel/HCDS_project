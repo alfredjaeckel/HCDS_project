{
 "cells": [
  {
   "cell_type": "markdown",
   "source": [
    "Download dependencies:"
   ],
   "metadata": {
    "collapsed": false
   }
  },
  {
   "cell_type": "code",
   "execution_count": null,
   "outputs": [],
   "source": [
    "!pip install zipp\n",
    "!pip install requests\n",
    "!pip install pandas\n",
    "!pip install plotly"
   ],
   "metadata": {
    "collapsed": false
   }
  },
  {
   "cell_type": "markdown",
   "source": [
    "Import Dependencies:"
   ],
   "metadata": {
    "collapsed": false
   }
  },
  {
   "cell_type": "code",
   "execution_count": 53,
   "outputs": [],
   "source": [
    "from zipfile import ZipFile\n",
    "import requests\n",
    "import pandas as pd\n",
    "import plotly as plot\n",
    "import plotly.express as px\n",
    "import numpy as np\n",
    "import plotly.graph_objects as go\n",
    "from math import radians, sin, cos, sqrt, atan2, floor"
   ],
   "metadata": {
    "collapsed": false,
    "ExecuteTime": {
     "end_time": "2023-05-21T08:37:33.958238Z",
     "start_time": "2023-05-21T08:37:33.956753Z"
    }
   }
  },
  {
   "cell_type": "markdown",
   "source": [
    "Download the file:"
   ],
   "metadata": {
    "collapsed": false
   }
  },
  {
   "cell_type": "code",
   "execution_count": null,
   "outputs": [],
   "source": [
    "url = 'https://download-data.deutschebahn.com/static/datasets/wifi/20171212_wifionice.zip'\n",
    "response = requests.get(url)\n",
    "\n",
    "with open('20171212_wifionice.zip', 'wb') as f:\n",
    "    f.write(response.content)"
   ],
   "metadata": {
    "collapsed": false
   }
  },
  {
   "cell_type": "markdown",
   "source": [
    "Extract the csv file and read dataset:"
   ],
   "metadata": {
    "collapsed": false
   }
  },
  {
   "cell_type": "code",
   "execution_count": null,
   "outputs": [],
   "source": [
    "with ZipFile('20171212_wifionice.zip', 'r') as zip_file:\n",
    "    zip_file.extract('surveyor_hackathon_data_20171212.csv')\n",
    "\n",
    "data = pd.read_csv('surveyor_hackathon_data_20171212.csv', sep=';', low_memory=False)"
   ],
   "metadata": {
    "collapsed": false,
    "ExecuteTime": {
     "start_time": "2023-05-21T08:37:41.115210Z"
    }
   }
  },
  {
   "cell_type": "markdown",
   "source": [
    "remove missing locations"
   ],
   "metadata": {
    "collapsed": false
   }
  },
  {
   "cell_type": "code",
   "execution_count": null,
   "outputs": [],
   "source": [
    "data = data.dropna(subset=[\"gps_breite\"])\n",
    "data = data.dropna(subset=[\"gps_laenge\"])"
   ],
   "metadata": {
    "collapsed": false,
    "ExecuteTime": {
     "start_time": "2023-05-21T08:37:41.116495Z"
    }
   }
  },
  {
   "cell_type": "markdown",
   "source": [
    "remove impossible speeds"
   ],
   "metadata": {
    "collapsed": false
   }
  },
  {
   "cell_type": "code",
   "execution_count": null,
   "outputs": [],
   "source": [
    "data = data.drop(data[data[\"gps_v\"] > 85].index)\n",
    "data = data.dropna(subset=[\"gps_v\"])"
   ],
   "metadata": {
    "collapsed": false,
    "ExecuteTime": {
     "start_time": "2023-05-21T08:37:41.117615Z"
    }
   }
  },
  {
   "cell_type": "markdown",
   "source": [
    "set transfer speed NaN to 0"
   ],
   "metadata": {
    "collapsed": false
   }
  },
  {
   "cell_type": "code",
   "execution_count": null,
   "outputs": [],
   "source": [
    "data['tprx'] = data['tprx'].fillna(value=0)\n",
    "data['tptx'] = data['tptx'].fillna(value=0)"
   ],
   "metadata": {
    "collapsed": false,
    "ExecuteTime": {
     "start_time": "2023-05-21T08:37:41.119187Z"
    }
   }
  },
  {
   "cell_type": "markdown",
   "source": [
    "pax_auth NaN"
   ],
   "metadata": {
    "collapsed": false
   }
  },
  {
   "cell_type": "code",
   "execution_count": null,
   "outputs": [],
   "source": [
    "data = data.dropna(subset=[\"pax_auth\"])"
   ],
   "metadata": {
    "collapsed": false
   }
  },
  {
   "cell_type": "markdown",
   "source": [
    "drop unnecessary columns"
   ],
   "metadata": {
    "collapsed": false
   }
  },
  {
   "cell_type": "code",
   "execution_count": null,
   "outputs": [],
   "source": [
    "data = data.drop(['gps_hoehe', 'sat', 'gps_richtung', 'pax_total', 'link_id', 'link_gw_conn'], axis=1)"
   ],
   "metadata": {
    "collapsed": false
   }
  },
  {
   "cell_type": "code",
   "execution_count": null,
   "outputs": [],
   "source": [
    "data.columns = ['sid', 'created', 'lat', 'lon', 'speed', 'devicecount', 'received_byte', 'sent_byte', 'ping']"
   ],
   "metadata": {
    "collapsed": false
   }
  },
  {
   "cell_type": "code",
   "execution_count": null,
   "outputs": [],
   "source": [
    "data['created'] = pd.to_datetime(data['created'])\n",
    "data = data.groupby(['sid', pd.Grouper(key='created', freq='1Min')]).first().reset_index()"
   ],
   "metadata": {
    "collapsed": false
   }
  },
  {
   "cell_type": "code",
   "execution_count": null,
   "outputs": [],
   "source": [
    "data['sid'] = data['sid'].astype(int)\n",
    "data['devicecount'] = data['devicecount'].astype(int)\n",
    "data"
   ],
   "metadata": {
    "collapsed": false
   }
  },
  {
   "cell_type": "code",
   "execution_count": null,
   "outputs": [],
   "source": [
    "data.to_csv('clean_data.csv', index=False)"
   ],
   "metadata": {
    "collapsed": false
   }
  },
  {
   "cell_type": "code",
   "execution_count": null,
   "outputs": [],
   "source": [
    "data = pd.read_csv('clean_data.csv')\n",
    "data"
   ],
   "metadata": {
    "collapsed": false
   }
  },
  {
   "cell_type": "markdown",
   "source": [
    "Changes by Niklas"
   ],
   "metadata": {
    "collapsed": false
   }
  },
  {
   "cell_type": "markdown",
   "source": [
    "Creating new Categories: Speed in km/h, Sent byte per User, Received byte per User"
   ],
   "metadata": {
    "collapsed": false
   }
  },
  {
   "cell_type": "code",
   "execution_count": null,
   "outputs": [],
   "source": [
    "data['speed_in_km/h'] = data['speed'] * 3.6\n",
    "data['sent_byte_per_user'] = data['sent_byte']/data['devicecount']\n",
    "data['down_byte_per_user'] = data['received_byte'] / data['devicecount']\n",
    "data"
   ],
   "metadata": {
    "collapsed": false
   }
  },
  {
   "cell_type": "markdown",
   "source": [
    "Splitting the dataset in smaller ones for the visualization"
   ],
   "metadata": {
    "collapsed": false
   }
  },
  {
   "cell_type": "code",
   "execution_count": null,
   "outputs": [],
   "source": [
    "upload_data = data[['sid','devicecount','sent_byte','sent_byte_per_user']]\n",
    "download_data = data[['sid','devicecount','received_byte','down_byte_per_user']]\n",
    "download_speed_data = data[['sid','speed_in_km/h','received_byte']]\n",
    "upload_speed_data = data[['sid','speed_in_km/h','sent_byte']]"
   ],
   "metadata": {
    "collapsed": false
   }
  },
  {
   "cell_type": "code",
   "execution_count": null,
   "outputs": [],
   "source": [
    "grid_cell_size = 0.001\n",
    "\n",
    "# Function to assign a grid cell\n",
    "def assign_grid_cell(lat, lon):\n",
    "    lat_cell = floor(lat / grid_cell_size)\n",
    "    lon_cell = floor(lon / grid_cell_size)\n",
    "    return f\"{lat_cell}_{lon_cell}\"\n",
    "\n",
    "# Create a new column 'grid_cell'\n",
    "data['grid_cell'] = data.apply(lambda row: assign_grid_cell(row['lat'], row['lon']), axis=1)\n",
    "\n",
    "# Group the DataFrame by the 'grid_cell'\n",
    "space_data = data.groupby('grid_cell').first().reset_index()\n",
    "\n",
    "space_data = space_data.drop('grid_cell', axis=1)\n",
    "\n",
    "space_data"
   ],
   "metadata": {
    "collapsed": false
   }
  },
  {
   "cell_type": "markdown",
   "source": [
    "Scatter Plot for Upload and User correlation"
   ],
   "metadata": {
    "collapsed": false
   }
  },
  {
   "cell_type": "code",
   "execution_count": null,
   "outputs": [],
   "source": [
    "fig_sent_byte = px.scatter(upload_data, x='sent_byte_per_user', y='devicecount', title='Sent Bytes Scatter Plot')\n",
    "fig_sent_byte.update_xaxes(type='log')\n",
    "fig_sent_byte.update_traces(marker=dict(size=2))\n",
    "fig_sent_byte.show()"
   ],
   "metadata": {
    "collapsed": false
   }
  },
  {
   "cell_type": "markdown",
   "source": [
    "Scatter Plot for Download and Speed correlation"
   ],
   "metadata": {
    "collapsed": false
   }
  },
  {
   "cell_type": "code",
   "execution_count": null,
   "outputs": [],
   "source": [
    "y_axis_range = [0,350]\n",
    "fig_speed_down = px.scatter(download_speed_data, x='received_byte', y='speed_in_km/h', title='Received Bytes per speed')\n",
    "fig_speed_down.update_xaxes(type='log')\n",
    "fig_speed_down.update_layout(yaxis=dict(range=y_axis_range))\n",
    "fig_speed_down.update_traces(marker=dict(size=2))\n",
    "fig_speed_down.show()"
   ],
   "metadata": {
    "collapsed": false
   }
  },
  {
   "cell_type": "markdown",
   "source": [
    "Scatter Plot for Download and User correlation"
   ],
   "metadata": {
    "collapsed": false
   }
  },
  {
   "cell_type": "code",
   "execution_count": null,
   "outputs": [],
   "source": [
    "fig_down_byte = px.scatter(download_data, x='down_byte_per_user', y='devicecount', title='Download Bytes Scatter Plot')\n",
    "fig_down_byte.update_xaxes(type='log')\n",
    "fig_down_byte.update_traces(marker=dict(size=2))\n",
    "fig_down_byte.show()"
   ],
   "metadata": {
    "collapsed": false
   }
  },
  {
   "cell_type": "markdown",
   "source": [
    "Scatter Plot for Upload and Speed correlation"
   ],
   "metadata": {
    "collapsed": false
   }
  },
  {
   "cell_type": "code",
   "execution_count": null,
   "outputs": [],
   "source": [
    "y_axis_range = [0,350]\n",
    "fig_speed_up = px.scatter(upload_speed_data, x='sent_byte', y='speed_in_km/h', title='Send Bytes per speed')\n",
    "fig_speed_up.update_xaxes(type='log')\n",
    "fig_speed_up.update_layout(yaxis=dict(range=y_axis_range))\n",
    "fig_speed_up.update_traces(marker=dict(size=2))\n",
    "fig_speed_up.show()"
   ],
   "metadata": {
    "collapsed": false
   }
  },
  {
   "cell_type": "code",
   "execution_count": null,
   "outputs": [],
   "source": [
    "fig_map = go.Figure(go.Scattergeo(\n",
    "    lat=space_data['lat'],  # Latitude column from DataFrame\n",
    "    lon=space_data['lon'],  # Longitude column from DataFrame\n",
    "    mode='markers',\n",
    "    marker=dict(\n",
    "        size=10,\n",
    "        color='blue',\n",
    "        opacity=0.7,\n",
    "    ),\n",
    "))\n",
    "\n",
    "# Set the layout properties for the map\n",
    "fig_map.update_layout(\n",
    "    geo=dict(\n",
    "        projection_type='natural earth',\n",
    "        center=dict(lat=51.1657, lon=10.4515),\n",
    "        scope='europe',\n",
    "        fitbounds=\"locations\"\n",
    "    ),\n",
    "    showlegend=False\n",
    ")\n",
    "\n",
    "# Show the map\n",
    "fig_map.show()"
   ],
   "metadata": {
    "collapsed": false
   }
  }
 ],
 "metadata": {
  "kernelspec": {
   "display_name": "Python 3",
   "language": "python",
   "name": "python3"
  },
  "language_info": {
   "codemirror_mode": {
    "name": "ipython",
    "version": 2
   },
   "file_extension": ".py",
   "mimetype": "text/x-python",
   "name": "python",
   "nbconvert_exporter": "python",
   "pygments_lexer": "ipython2",
   "version": "2.7.6"
  }
 },
 "nbformat": 4,
 "nbformat_minor": 0
}
